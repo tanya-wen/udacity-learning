{
 "cells": [
  {
   "cell_type": "markdown",
   "metadata": {},
   "source": [
    "## Lab: Random Projection\n",
    "In the previous video, you saw an example of working with some MNIST digits data.  A link to the dataset can be found here: http://yann.lecun.com/exdb/mnist/.\n",
    "\n",
    "First, let's import the necessary libraries.  Notice, there are also some imports from a file called `helper_functions`, which contains the functions used in the previous video."
   ]
  },
  {
   "cell_type": "code",
   "execution_count": 1,
   "metadata": {},
   "outputs": [],
   "source": [
    "import pandas as pd\n",
    "import numpy as np\n",
    "from sklearn.ensemble import RandomForestClassifier\n",
    "from sklearn.model_selection import train_test_split\n",
    "from sklearn.metrics import confusion_matrix, accuracy_score\n",
    "from helper_functions import fit_random_forest_classifier, plot_rp, show_images_by_digit\n",
    "\n",
    "import matplotlib.image as mpimg\n",
    "import matplotlib.pyplot as plt\n",
    "import seaborn as sns\n",
    "\n",
    "%matplotlib inline"
   ]
  },
  {
   "cell_type": "markdown",
   "metadata": {},
   "source": [
    "### I. Use random projection to reduce dimensions\n",
    "\n",
    "In the first section, we will use sparse random projection to transform data from high dimensions to low dimensions and compare the classification accuracy before and after transformation."
   ]
  },
  {
   "cell_type": "markdown",
   "metadata": {},
   "source": [
    "`1.` Use pandas to read in the dataset, which can be found at the following address **'./data/train.csv'**.  Take a look at info about the data using `head`, `tail`, `describe`, `info`, etc.  You can learn more about the data values from the article here: https://homepages.inf.ed.ac.uk/rbf/HIPR2/value.htm."
   ]
  },
  {
   "cell_type": "code",
   "execution_count": 2,
   "metadata": {},
   "outputs": [
    {
     "data": {
      "text/html": [
       "<div>\n",
       "<style scoped>\n",
       "    .dataframe tbody tr th:only-of-type {\n",
       "        vertical-align: middle;\n",
       "    }\n",
       "\n",
       "    .dataframe tbody tr th {\n",
       "        vertical-align: top;\n",
       "    }\n",
       "\n",
       "    .dataframe thead th {\n",
       "        text-align: right;\n",
       "    }\n",
       "</style>\n",
       "<table border=\"1\" class=\"dataframe\">\n",
       "  <thead>\n",
       "    <tr style=\"text-align: right;\">\n",
       "      <th></th>\n",
       "      <th>label</th>\n",
       "      <th>pixel0</th>\n",
       "      <th>pixel1</th>\n",
       "      <th>pixel2</th>\n",
       "      <th>pixel3</th>\n",
       "      <th>pixel4</th>\n",
       "      <th>pixel5</th>\n",
       "      <th>pixel6</th>\n",
       "      <th>pixel7</th>\n",
       "      <th>pixel8</th>\n",
       "      <th>...</th>\n",
       "      <th>pixel774</th>\n",
       "      <th>pixel775</th>\n",
       "      <th>pixel776</th>\n",
       "      <th>pixel777</th>\n",
       "      <th>pixel778</th>\n",
       "      <th>pixel779</th>\n",
       "      <th>pixel780</th>\n",
       "      <th>pixel781</th>\n",
       "      <th>pixel782</th>\n",
       "      <th>pixel783</th>\n",
       "    </tr>\n",
       "  </thead>\n",
       "  <tbody>\n",
       "    <tr>\n",
       "      <th>0</th>\n",
       "      <td>1</td>\n",
       "      <td>0</td>\n",
       "      <td>0</td>\n",
       "      <td>0</td>\n",
       "      <td>0</td>\n",
       "      <td>0</td>\n",
       "      <td>0</td>\n",
       "      <td>0</td>\n",
       "      <td>0</td>\n",
       "      <td>0</td>\n",
       "      <td>...</td>\n",
       "      <td>0.0</td>\n",
       "      <td>0.0</td>\n",
       "      <td>0.0</td>\n",
       "      <td>0.0</td>\n",
       "      <td>0.0</td>\n",
       "      <td>0.0</td>\n",
       "      <td>0.0</td>\n",
       "      <td>0.0</td>\n",
       "      <td>0.0</td>\n",
       "      <td>0.0</td>\n",
       "    </tr>\n",
       "    <tr>\n",
       "      <th>1</th>\n",
       "      <td>0</td>\n",
       "      <td>0</td>\n",
       "      <td>0</td>\n",
       "      <td>0</td>\n",
       "      <td>0</td>\n",
       "      <td>0</td>\n",
       "      <td>0</td>\n",
       "      <td>0</td>\n",
       "      <td>0</td>\n",
       "      <td>0</td>\n",
       "      <td>...</td>\n",
       "      <td>0.0</td>\n",
       "      <td>0.0</td>\n",
       "      <td>0.0</td>\n",
       "      <td>0.0</td>\n",
       "      <td>0.0</td>\n",
       "      <td>0.0</td>\n",
       "      <td>0.0</td>\n",
       "      <td>0.0</td>\n",
       "      <td>0.0</td>\n",
       "      <td>0.0</td>\n",
       "    </tr>\n",
       "    <tr>\n",
       "      <th>2</th>\n",
       "      <td>1</td>\n",
       "      <td>0</td>\n",
       "      <td>0</td>\n",
       "      <td>0</td>\n",
       "      <td>0</td>\n",
       "      <td>0</td>\n",
       "      <td>0</td>\n",
       "      <td>0</td>\n",
       "      <td>0</td>\n",
       "      <td>0</td>\n",
       "      <td>...</td>\n",
       "      <td>0.0</td>\n",
       "      <td>0.0</td>\n",
       "      <td>0.0</td>\n",
       "      <td>0.0</td>\n",
       "      <td>0.0</td>\n",
       "      <td>0.0</td>\n",
       "      <td>0.0</td>\n",
       "      <td>0.0</td>\n",
       "      <td>0.0</td>\n",
       "      <td>0.0</td>\n",
       "    </tr>\n",
       "    <tr>\n",
       "      <th>3</th>\n",
       "      <td>4</td>\n",
       "      <td>0</td>\n",
       "      <td>0</td>\n",
       "      <td>0</td>\n",
       "      <td>0</td>\n",
       "      <td>0</td>\n",
       "      <td>0</td>\n",
       "      <td>0</td>\n",
       "      <td>0</td>\n",
       "      <td>0</td>\n",
       "      <td>...</td>\n",
       "      <td>0.0</td>\n",
       "      <td>0.0</td>\n",
       "      <td>0.0</td>\n",
       "      <td>0.0</td>\n",
       "      <td>0.0</td>\n",
       "      <td>0.0</td>\n",
       "      <td>0.0</td>\n",
       "      <td>0.0</td>\n",
       "      <td>0.0</td>\n",
       "      <td>0.0</td>\n",
       "    </tr>\n",
       "    <tr>\n",
       "      <th>4</th>\n",
       "      <td>0</td>\n",
       "      <td>0</td>\n",
       "      <td>0</td>\n",
       "      <td>0</td>\n",
       "      <td>0</td>\n",
       "      <td>0</td>\n",
       "      <td>0</td>\n",
       "      <td>0</td>\n",
       "      <td>0</td>\n",
       "      <td>0</td>\n",
       "      <td>...</td>\n",
       "      <td>0.0</td>\n",
       "      <td>0.0</td>\n",
       "      <td>0.0</td>\n",
       "      <td>0.0</td>\n",
       "      <td>0.0</td>\n",
       "      <td>0.0</td>\n",
       "      <td>0.0</td>\n",
       "      <td>0.0</td>\n",
       "      <td>0.0</td>\n",
       "      <td>0.0</td>\n",
       "    </tr>\n",
       "  </tbody>\n",
       "</table>\n",
       "<p>5 rows × 785 columns</p>\n",
       "</div>"
      ],
      "text/plain": [
       "   label  pixel0  pixel1  pixel2  pixel3  pixel4  pixel5  pixel6  pixel7  \\\n",
       "0      1       0       0       0       0       0       0       0       0   \n",
       "1      0       0       0       0       0       0       0       0       0   \n",
       "2      1       0       0       0       0       0       0       0       0   \n",
       "3      4       0       0       0       0       0       0       0       0   \n",
       "4      0       0       0       0       0       0       0       0       0   \n",
       "\n",
       "   pixel8    ...     pixel774  pixel775  pixel776  pixel777  pixel778  \\\n",
       "0       0    ...          0.0       0.0       0.0       0.0       0.0   \n",
       "1       0    ...          0.0       0.0       0.0       0.0       0.0   \n",
       "2       0    ...          0.0       0.0       0.0       0.0       0.0   \n",
       "3       0    ...          0.0       0.0       0.0       0.0       0.0   \n",
       "4       0    ...          0.0       0.0       0.0       0.0       0.0   \n",
       "\n",
       "   pixel779  pixel780  pixel781  pixel782  pixel783  \n",
       "0       0.0       0.0       0.0       0.0       0.0  \n",
       "1       0.0       0.0       0.0       0.0       0.0  \n",
       "2       0.0       0.0       0.0       0.0       0.0  \n",
       "3       0.0       0.0       0.0       0.0       0.0  \n",
       "4       0.0       0.0       0.0       0.0       0.0  \n",
       "\n",
       "[5 rows x 785 columns]"
      ]
     },
     "execution_count": 2,
     "metadata": {},
     "output_type": "execute_result"
    }
   ],
   "source": [
    "# Load the data\n",
    "train = pd.read_csv('./data/train.csv')\n",
    "train.fillna(0, inplace=True)\n",
    "train.head()"
   ]
  },
  {
   "cell_type": "markdown",
   "metadata": {},
   "source": [
    "`2.` Create a vector called **y** that holds the **label** column of the dataset.  Store all other columns holding the pixel data of your images in **X**."
   ]
  },
  {
   "cell_type": "code",
   "execution_count": 3,
   "metadata": {},
   "outputs": [],
   "source": [
    "# Save the labels to a Pandas series target\n",
    "y = train['label']\n",
    "\n",
    "\n",
    "# Drop the label feature\n",
    "X = train.drop('label',axis=1)\n"
   ]
  },
  {
   "cell_type": "markdown",
   "metadata": {},
   "source": [
    "`3.` Now use the `show_images_by_digit` function from the `helper_functions` module to take a look some of the `1`'s, `2`'s, `3`'s, or any other value you are interested in looking at.  Do they all look like what you would expect?"
   ]
  },
  {
   "cell_type": "code",
   "execution_count": 4,
   "metadata": {},
   "outputs": [
    {
     "data": {
      "image/png": "[encoded data removed]",
      "text/plain": [
       "<matplotlib.figure.Figure at 0x7f0fb06b58d0>"
      ]
     },
     "metadata": {},
     "output_type": "display_data"
    }
   ],
   "source": [
    "show_images_by_digit(6) # Try looking at a few other digits"
   ]
  },
  {
   "cell_type": "markdown",
   "metadata": {},
   "source": [
    "`4.` Now that you have had a chance to look through some of the data, you can try some different algorithms to see what works well to use the X matrix to predict the response well.  If you would like to use the imported random forests classification, you can run the code below, but you might also try any of the supervised techniques you learned in the previous course to see what works best.\n",
    "\n",
    "If you decide to put together your own classifier, remember the 4 steps to this process:\n",
    "\n",
    "**I.** Instantiate your model. (with all the hyperparameter values you care about)\n",
    "\n",
    "**II.** Fit your model. (to the training data)\n",
    "\n",
    "**III.** Predict using your fitted model.  (on the test data)\n",
    "\n",
    "**IV.** Score your model. (comparing the predictions to the actual values on the test data)\n",
    "\n",
    "You can also try a grid search to see if you can improve on your initial predictions."
   ]
  },
  {
   "cell_type": "code",
   "execution_count": 5,
   "metadata": {},
   "outputs": [
    {
     "name": "stdout",
     "output_type": "stream",
     "text": [
      "[[202   0   0   0   0   1   5   0   1   0]\n",
      " [  0 235   2   0   0   0   1   2   3   0]\n",
      " [  1   4 213   0   2   1   1   6   0   0]\n",
      " [  3   0   4 174   0   4   0   1   3   2]\n",
      " [  1   0   1   0 170   0   1   0   1   4]\n",
      " [  3   1   0   4   1 170   5   1   1   0]\n",
      " [  1   0   2   0   1   2 204   0   1   0]\n",
      " [  0   0   8   0   4   0   0 207   2   4]\n",
      " [  1   1   1   7   3   3   0   0 185   1]\n",
      " [  2   1   0   1   9   1   1   1   6 186]]\n",
      "accuracy: 0.9351273426237385\n"
     ]
    }
   ],
   "source": [
    "fit_random_forest_classifier(X, y)"
   ]
  },
  {
   "cell_type": "markdown",
   "metadata": {},
   "source": [
    "`5.` Now the purpose of this lesson, to look at Randome Projection. In the cell below, reduce the dimension of the training data X using the `SparseRandomProjection` in `random_projection` module. You can use `0.5` as the value of `epsilon`. Store your variables in **rp** and **X_rp**"
   ]
  },
  {
   "cell_type": "code",
   "execution_count": 6,
   "metadata": {},
   "outputs": [],
   "source": [
    "# TODO: performs random projection to reduce the dataset dimension. \n",
    "# To start, use 0.5 as the epsilon value.\n",
    "\n",
    "from sklearn import random_projection\n",
    "rp = random_projection.SparseRandomProjection(eps=0.5)\n",
    "X_rp = rp.fit_transform(X)\n"
   ]
  },
  {
   "cell_type": "markdown",
   "metadata": {},
   "source": [
    "To look at the dimension of the transformed data, you can use the `n_components_` attributes."
   ]
  },
  {
   "cell_type": "code",
   "execution_count": 7,
   "metadata": {},
   "outputs": [
    {
     "name": "stdout",
     "output_type": "stream",
     "text": [
      "The orignial data has 784 dimensions and it is reduced to 419 after random projection.\n"
     ]
    }
   ],
   "source": [
    "rp_dim = rp.n_components_\n",
    "X_dim = X.shape[1]\n",
    "print(\"The orignial data has {} dimensions and it is reduced to {} after random projection.\".format(X_dim, rp_dim))"
   ]
  },
  {
   "cell_type": "markdown",
   "metadata": {},
   "source": [
    "`6.` The **X_rp** has moved about half the original features. Use the space below to fit a model using these two features to predict the written value.  You can use the random forest model by running `fit_random_forest_classifier` the same way as in the video. How well does it perform?"
   ]
  },
  {
   "cell_type": "code",
   "execution_count": 8,
   "metadata": {},
   "outputs": [
    {
     "name": "stdout",
     "output_type": "stream",
     "text": [
      "[[195   0   1   0   1   2  10   0   0   0]\n",
      " [  0 233   2   0   0   1   2   0   4   1]\n",
      " [  4   3 206   3   2   1   4   2   2   1]\n",
      " [  2   0   9 166   0   9   0   1   2   2]\n",
      " [  0   0   3   0 164   0   4   0   0   7]\n",
      " [  1   1   1   7   3 170   0   1   2   0]\n",
      " [  4   0   3   0   1   5 198   0   0   0]\n",
      " [  1   1   6   1   4   0   1 202   1   8]\n",
      " [  3   1   0   9   4   5   2   0 176   2]\n",
      " [  2   0   2   2  16   2   2   9   6 167]]\n",
      "accuracy: 0.9019702066314272\n"
     ]
    }
   ],
   "source": [
    "# Todo: fit the new data with a classifier\n",
    "fit_random_forest_classifier(X_rp, y)"
   ]
  },
  {
   "cell_type": "markdown",
   "metadata": {},
   "source": [
    "`8.`  Epsilon is the level of errors that determins how much the transformed data is distorded from the original data. Now, see if you can change the epsilon to reduce the dimension even more. What is the accuracy of the classifying model?"
   ]
  },
  {
   "cell_type": "code",
   "execution_count": 9,
   "metadata": {},
   "outputs": [
    {
     "name": "stdout",
     "output_type": "stream",
     "text": [
      "With epsilon = 0.50, the transformed data has 419 components. The random forest achieved an accuracy of:\n",
      "[[197   0   2   1   0   1   6   0   2   0]\n",
      " [  0 235   1   1   0   0   2   2   2   0]\n",
      " [  3   6 209   0   2   0   0   6   1   1]\n",
      " [  2   0   8 167   0   8   1   2   3   0]\n",
      " [  0   0   2   0 161   0   6   1   0   8]\n",
      " [  1   1   0   7   3 163   6   1   3   1]\n",
      " [  2   1   1   0   0   4 202   1   0   0]\n",
      " [  1   0   2   2   9   1   0 202   1   7]\n",
      " [  1   2   3   7   2   5   2   2 178   0]\n",
      " [  3   0   3   1  13   1   0  12   5 170]]\n",
      "accuracy: 0.9053339740509371\n",
      "------------------------------\n",
      "With epsilon = 0.60, the transformed data has 324 components. The random forest achieved an accuracy of:\n",
      "[[194   0   1   0   1   2  11   0   0   0]\n",
      " [  0 234   3   0   0   1   1   1   2   1]\n",
      " [  2   4 210   1   3   0   2   3   2   1]\n",
      " [  5   0   7 168   0   5   0   2   3   1]\n",
      " [  0   0   1   0 167   1   2   0   0   7]\n",
      " [  2   0   0   7   3 165   4   0   2   3]\n",
      " [  4   0   2   0   1   2 202   0   0   0]\n",
      " [  0   1   5   0   7   0   1 203   1   7]\n",
      " [  3   1   5  12   1   2   3   1 171   3]\n",
      " [  3   0   2   2  18   2   1   7   2 171]]\n",
      "accuracy: 0.9058145122537242\n",
      "------------------------------\n",
      "With epsilon = 0.70, the transformed data has 267 components. The random forest achieved an accuracy of:\n",
      "[[199   0   2   0   0   0   6   0   2   0]\n",
      " [  0 233   2   0   0   0   2   2   4   0]\n",
      " [  1   4 203   6   2   2   1   5   4   0]\n",
      " [  2   0   7 167   1  10   0   1   2   1]\n",
      " [  0   0   0   0 165   0   6   0   0   7]\n",
      " [  0   1   1  10   4 164   4   0   2   0]\n",
      " [  4   0   1   0   2   1 200   1   2   0]\n",
      " [  1   2   2   0   5   0   0 203   3   9]\n",
      " [  4   1   6  10   1   2   2   2 171   3]\n",
      " [  4   0   0   2  10   1   0  12   3 176]]\n",
      "accuracy: 0.9038923594425757\n",
      "------------------------------\n",
      "With epsilon = 0.80, the transformed data has 234 components. The random forest achieved an accuracy of:\n",
      "[[196   0   3   1   1   2   5   0   1   0]\n",
      " [  0 234   2   0   0   1   2   1   3   0]\n",
      " [  3   3 210   0   3   0   1   3   4   1]\n",
      " [  5   0   5 166   0   7   0   1   4   3]\n",
      " [  2   0   2   0 161   0   4   0   0   9]\n",
      " [  2   1   0  11   0 165   1   0   3   3]\n",
      " [  4   1   4   1   1   3 197   0   0   0]\n",
      " [  1   4   7   1   4   0   1 197   1   9]\n",
      " [  0   3   1  10   1   9   2   0 174   2]\n",
      " [  1   0   3   2  12   0   0  10   5 175]]\n",
      "accuracy: 0.9010091302258529\n",
      "------------------------------\n",
      "With epsilon = 0.90, the transformed data has 216 components. The random forest achieved an accuracy of:\n",
      "[[189   0   1   1   1   4  10   0   2   1]\n",
      " [  0 235   2   0   0   0   1   3   2   0]\n",
      " [  3   2 210   2   2   0   1   3   3   2]\n",
      " [  1   0   7 168   0  11   0   0   1   3]\n",
      " [  2   0   1   0 168   1   3   1   0   2]\n",
      " [  3   1   0   9   3 162   4   1   1   2]\n",
      " [  6   1   5   0   4   3 191   0   1   0]\n",
      " [  0   0   7   0   6   1   0 200   3   8]\n",
      " [  2   1   3  13   3   7   1   1 170   1]\n",
      " [  3   0   0   2  12   1   0  13   4 173]]\n",
      "accuracy: 0.8966842864007689\n",
      "------------------------------\n"
     ]
    }
   ],
   "source": [
    "# TODO: write a loop to transform X using different epsilons and get the accuracy score of classification\n",
    "for sample_eps in np.arange(0.5, 1, 0.1):\n",
    "    rp = random_projection.SparseRandomProjection(eps=sample_eps)\n",
    "    X_rp = rp.fit_transform(X)\n",
    "    \n",
    "    print(f\"With epsilon = {sample_eps:.2f}, the transformed data has {X_rp.shape[1]} components. The random forest achieved an accuracy of:\")\n",
    "    fit_random_forest_classifier(X_rp, y) # TODO: replace (?, ?)\n",
    "    print(\"------------------------------\")"
   ]
  },
  {
   "cell_type": "markdown",
   "metadata": {},
   "source": [
    "`9.` As you can see, the accuracy is still very high after recuding more than half of the columns. `epsilon` is an important parameter in the *the [Johnson-Lindenstrauss lemma](https://en.wikipedia.org/wiki/Johnson%E2%80%93Lindenstrauss_lemma)*. Let's see how epsilon changes the number of components projected and you will notice that a **higer** value of epsilon gives you a dataset with **lower** number of components."
   ]
  },
  {
   "cell_type": "code",
   "execution_count": 10,
   "metadata": {},
   "outputs": [],
   "source": [
    "# Calulate the number of components with varying eps\n",
    "from sklearn.random_projection import johnson_lindenstrauss_min_dim\n",
    "eps = np.arange(0.1, 1, 0.01)\n",
    "n_comp = johnson_lindenstrauss_min_dim(n_samples=1e6, eps=eps)"
   ]
  },
  {
   "cell_type": "code",
   "execution_count": 11,
   "metadata": {},
   "outputs": [
    {
     "data": {
      "image/png": "[encoded data removed]",
      "text/plain": [
       "<matplotlib.figure.Figure at 0x7f0f5a9aed30>"
      ]
     },
     "metadata": {
      "needs_background": "light"
     },
     "output_type": "display_data"
    }
   ],
   "source": [
    "plt.plot(eps, n_comp, 'bo');\n",
    "plt.xlabel('eps');\n",
    "plt.ylabel('Number of Components');\n",
    "plt.title('Number of Components by eps');"
   ]
  },
  {
   "cell_type": "markdown",
   "metadata": {},
   "source": [
    "### II. Visualize the random projection"
   ]
  },
  {
   "cell_type": "markdown",
   "metadata": {},
   "source": [
    "In this section, we will take a look at how the projection works.\n",
    "\n",
    "`1.` We load the number of samples and number of components in the original data **X**. Store them in `X_sample` and `X_comp`."
   ]
  },
  {
   "cell_type": "code",
   "execution_count": 12,
   "metadata": {},
   "outputs": [
    {
     "name": "stdout",
     "output_type": "stream",
     "text": [
      "The orignial data has 6304 samples with dimension 784.\n"
     ]
    }
   ],
   "source": [
    "# TODO: find the number of samples and components in X\n",
    "X_sample = X.shape[0]\n",
    "X_comp = X.shape[1]\n",
    "\n",
    "print(\"The orignial data has {} samples with dimension {}.\".format(X_sample, X_comp))"
   ]
  },
  {
   "cell_type": "markdown",
   "metadata": {},
   "source": [
    "`2.` Project the data onto a space with `n_components` using `SparseRamdomProjection`. Sometimes you may want to define the dimension of projected space directly without guessing it based on the epsilon.\n",
    "In random projection, besides using a predefine an epsilon to determine the dimension, you can also use the `n_components` parameter to define the number of components in the transformed data."
   ]
  },
  {
   "cell_type": "code",
   "execution_count": 14,
   "metadata": {},
   "outputs": [],
   "source": [
    "# TODO: define a n_components and perform random projection on data X.\n",
    "# Store the transformed data in a `X_rp` variable\n",
    "n_components = 30\n",
    "\n",
    "rp = random_projection.SparseRandomProjection(n_components=n_components)\n",
    "X_rp = rp.fit_transform(X)"
   ]
  },
  {
   "cell_type": "markdown",
   "metadata": {},
   "source": [
    "`3.` Perform the following helper function to plot two figures. \n",
    "\n",
    "The first figure shows how the distribution of pairwise distance of original data against that of the projected data. \n",
    "\n",
    "The second figure shows the ratio of pairwise distance in projected data and original data (projected distance/original distance)\n",
    "\n",
    "It may take about 2-5 min to plot the figures due to the large data dimension."
   ]
  },
  {
   "cell_type": "code",
   "execution_count": 15,
   "metadata": {},
   "outputs": [
    {
     "data": {
      "image/png": "[encoded data removed]",
      "text/plain": [
       "<matplotlib.figure.Figure at 0x7f0f5a6d4438>"
      ]
     },
     "metadata": {
      "needs_background": "light"
     },
     "output_type": "display_data"
    },
    {
     "data": {
      "image/png": "[encoded data removed]",
      "text/plain": [
       "<matplotlib.figure.Figure at 0x7f0f5a6638d0>"
      ]
     },
     "metadata": {
      "needs_background": "light"
     },
     "output_type": "display_data"
    }
   ],
   "source": [
    "plot_rp(X, X_rp, n_components)"
   ]
  },
  {
   "cell_type": "markdown",
   "metadata": {},
   "source": [
    "`4.` Change number of `n_components` to 30, 100, 700. What do you observe?"
   ]
  },
  {
   "cell_type": "markdown",
   "metadata": {},
   "source": [
    "[Input your answer here]"
   ]
  }
 ],
 "metadata": {
  "kernelspec": {
   "display_name": "Python 3",
   "language": "python",
   "name": "python3"
  },
  "language_info": {
   "codemirror_mode": {
    "name": "ipython",
    "version": 3
   },
   "file_extension": ".py",
   "mimetype": "text/x-python",
   "name": "python",
   "nbconvert_exporter": "python",
   "pygments_lexer": "ipython3",
   "version": "3.6.3"
  }
 },
 "nbformat": 4,
 "nbformat_minor": 2
}
